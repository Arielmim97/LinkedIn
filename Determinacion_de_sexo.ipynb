import tkinter as tk
from tkinter import messagebox
from sklearn.tree import DecisionTreeClassifier
import numpy as np

# Función para obtener la predicción
def predecir():
    # Obtener valores de los campos de entrada
    mother_brothers = entry_mother_brothers.get()
    mother_sisters = entry_mother_sisters.get()
    father_brothers = entry_father_brothers.get()
    father_sisters = entry_father_sisters.get()

    # Verificando si algún campo está vacío
    if not mother_brothers or not mother_sisters or not father_brothers or not father_sisters:
        messagebox.showerror("Error", "Por favor, ingrese valores en todos los campos.")
        return

    # Convertiendo a enteros
    mother_brothers = int(mother_brothers)
    mother_sisters = int(mother_sisters)
    father_brothers = int(father_brothers)
    father_sisters = int(father_sisters)

    # Datos para entrenar el modelo
    X = np.array([[2, 1, 3, 2], [1, 2, 1, 3], [3, 2, 2, 1], [2, 3, 2, 2]])
    y = np.array([0, 1, 0, 1])  # Supongamos que 0 es masculino y 1 es femenino

    # Utiliza un clasificador de arbol de decision
    clf = DecisionTreeClassifier()

    # Entrenando el modelo
    clf.fit(X, y)

    # Preparando los datos del usuario para la predicción
    user_data = np.array([[mother_brothers, mother_sisters, father_brothers, father_sisters]])

    # Realiza la predicción
    prediction = clf.predict(user_data)
    probability = clf.predict_proba(user_data)

    # Mensajes de prediccion
    if prediction[0] == 0:
        prediction_label.config(text="Predicción de sexo del hijo: Niño")
        messagebox.showinfo("Predicción", "La predicción es un niño.")
    else:
        prediction_label.config(text="Predicción de sexo del hijo: Niña")
        messagebox.showinfo("Predicción", "La predicción es una niña.")
    probability_label.config(text="Probabilidad de sexo del hijo (Niño, Niña): " + str(probability))

# Creando la ventana principal
root = tk.Tk()
root.title("Predicción de Sexo del Hijo")
root.geometry("400x200")  # Definir el tamaño de la ventana

# Creando etiquetas y campos de entrada
tk.Label(root, text="Número de hermanos de la madre:").grid(row=0, column=0)
entry_mother_brothers = tk.Entry(root)
entry_mother_brothers.grid(row=0, column=1)

tk.Label(root, text="Número de hermanas de la madre:").grid(row=1, column=0)
entry_mother_sisters = tk.Entry(root)
entry_mother_sisters.grid(row=1, column=1)

tk.Label(root, text="Número de hermanos del padre:").grid(row=2, column=0)
entry_father_brothers = tk.Entry(root)
entry_father_brothers.grid(row=2, column=1)

tk.Label(root, text="Número de hermanas del padre:").grid(row=3, column=0)
entry_father_sisters = tk.Entry(root)
entry_father_sisters.grid(row=3, column=1)

# Botón para predecir
predict_button = tk.Button(root, text="Predecir", command=predecir)
predict_button.grid(row=4, columnspan=2)

# Etiqueta para mostrar la predicción
prediction_label = tk.Label(root, text="")
prediction_label.grid(row=5, columnspan=2)

# Etiqueta para mostrar la probabilidad
probability_label = tk.Label(root, text="")
probability_label.grid(row=6, columnspan=2)

# Ejecutando toda la aplicacion
root.mainloop()
